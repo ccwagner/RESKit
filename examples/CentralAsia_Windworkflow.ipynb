{
 "cells": [
  {
   "cell_type": "code",
   "execution_count": 1,
   "id": "9de402d1",
   "metadata": {},
   "outputs": [],
   "source": [
    "# import packages\n",
    "import reskit as rk\n",
    "import pandas as pd\n",
    "from os import listdir, chdir, getcwd"
   ]
  },
  {
   "cell_type": "code",
   "execution_count": 2,
   "id": "8cefaa6e",
   "metadata": {},
   "outputs": [
    {
     "data": {
      "text/html": [
       "<div>\n",
       "<style scoped>\n",
       "    .dataframe tbody tr th:only-of-type {\n",
       "        vertical-align: middle;\n",
       "    }\n",
       "\n",
       "    .dataframe tbody tr th {\n",
       "        vertical-align: top;\n",
       "    }\n",
       "\n",
       "    .dataframe thead th {\n",
       "        text-align: right;\n",
       "    }\n",
       "</style>\n",
       "<table border=\"1\" class=\"dataframe\">\n",
       "  <thead>\n",
       "    <tr style=\"text-align: right;\">\n",
       "      <th></th>\n",
       "      <th>capacity</th>\n",
       "      <th>hub_height</th>\n",
       "      <th>rotor_diam</th>\n",
       "      <th>lon</th>\n",
       "      <th>lat</th>\n",
       "    </tr>\n",
       "  </thead>\n",
       "  <tbody>\n",
       "    <tr>\n",
       "      <th>0</th>\n",
       "      <td>4000</td>\n",
       "      <td>120</td>\n",
       "      <td>150</td>\n",
       "      <td>141.75</td>\n",
       "      <td>43.09</td>\n",
       "    </tr>\n",
       "    <tr>\n",
       "      <th>1</th>\n",
       "      <td>4000</td>\n",
       "      <td>120</td>\n",
       "      <td>130</td>\n",
       "      <td>141.75</td>\n",
       "      <td>43.09</td>\n",
       "    </tr>\n",
       "    <tr>\n",
       "      <th>2</th>\n",
       "      <td>4000</td>\n",
       "      <td>120</td>\n",
       "      <td>150</td>\n",
       "      <td>141.60</td>\n",
       "      <td>45.18</td>\n",
       "    </tr>\n",
       "    <tr>\n",
       "      <th>3</th>\n",
       "      <td>4000</td>\n",
       "      <td>120</td>\n",
       "      <td>130</td>\n",
       "      <td>141.60</td>\n",
       "      <td>45.18</td>\n",
       "    </tr>\n",
       "    <tr>\n",
       "      <th>4</th>\n",
       "      <td>4000</td>\n",
       "      <td>120</td>\n",
       "      <td>150</td>\n",
       "      <td>145.02</td>\n",
       "      <td>43.46</td>\n",
       "    </tr>\n",
       "  </tbody>\n",
       "</table>\n",
       "</div>"
      ],
      "text/plain": [
       "   capacity  hub_height  rotor_diam     lon    lat\n",
       "0      4000         120         150  141.75  43.09\n",
       "1      4000         120         130  141.75  43.09\n",
       "2      4000         120         150  141.60  45.18\n",
       "3      4000         120         130  141.60  45.18\n",
       "4      4000         120         150  145.02  43.46"
      ]
     },
     "execution_count": 2,
     "metadata": {},
     "output_type": "execute_result"
    }
   ],
   "source": [
    "# Placment locations do not have to be put in as a pandas dataframe (a list of coordinates would also be okay), but \n",
    "#  it is also the most flexible. Therefore, this manner is suggested\n",
    "\n",
    "placements = pd.read_csv('./../../turbine_placements_JAP.csv')\n",
    "\n",
    "placements.head()"
   ]
  },
  {
   "cell_type": "code",
   "execution_count": 8,
   "id": "89a94859",
   "metadata": {},
   "outputs": [
    {
     "name": "stdout",
     "output_type": "stream",
     "text": [
      "The following locations are out of bounds\n",
      "[(141.75000,43.09000) (141.75000,43.09000) (141.60000,45.18000)\n",
      " (141.60000,45.18000) (145.02000,43.46000) (145.02000,43.46000)]\n"
     ]
    },
    {
     "ename": "ResError",
     "evalue": "Locations are outside the boundaries",
     "output_type": "error",
     "traceback": [
      "\u001b[0;31m---------------------------------------------------------------------------\u001b[0m",
      "\u001b[0;31mResError\u001b[0m                                  Traceback (most recent call last)",
      "Input \u001b[0;32mIn [8]\u001b[0m, in \u001b[0;36m<cell line: 1>\u001b[0;34m()\u001b[0m\n\u001b[0;32m----> 1\u001b[0m gen \u001b[38;5;241m=\u001b[39m \u001b[43mrk\u001b[49m\u001b[38;5;241;43m.\u001b[39;49m\u001b[43mwind\u001b[49m\u001b[38;5;241;43m.\u001b[39;49m\u001b[43mworkflows\u001b[49m\u001b[38;5;241;43m.\u001b[39;49m\u001b[43mworkflows\u001b[49m\u001b[38;5;241;43m.\u001b[39;49m\u001b[43monshore_wind_merra_wagner_asia\u001b[49m\u001b[43m(\u001b[49m\n\u001b[1;32m      2\u001b[0m \u001b[43m    \u001b[49m\u001b[43mplacements\u001b[49m\u001b[38;5;241;43m=\u001b[39;49m\u001b[43mplacements\u001b[49m\u001b[43m,\u001b[49m\n\u001b[1;32m      3\u001b[0m \u001b[43m    \u001b[49m\u001b[43mmerra_path\u001b[49m\u001b[38;5;241;43m=\u001b[39;49m\u001b[38;5;124;43m'\u001b[39;49m\u001b[38;5;124;43m./../../merra-like\u001b[39;49m\u001b[38;5;124;43m'\u001b[39;49m\u001b[43m,\u001b[49m\u001b[43m \u001b[49m\u001b[38;5;66;43;03m# path to MERRA2 data on your hard drive\u001b[39;49;00m\n\u001b[1;32m      4\u001b[0m \u001b[43m    \u001b[49m\u001b[43mclc2012_path\u001b[49m\u001b[38;5;241;43m=\u001b[39;49m\u001b[38;5;124;43m'\u001b[39;49m\u001b[38;5;124;43m./../../GLOBCOVER_L4_200901_200912_V2.3.tiff\u001b[39;49m\u001b[38;5;124;43m'\u001b[39;49m\u001b[43m,\u001b[49m\u001b[43m \u001b[49m\u001b[38;5;66;43;03m# Path to Globcover2010 land cover (or anther land cover dataset) on your hard drive\u001b[39;49;00m\n\u001b[1;32m      5\u001b[0m \u001b[43m    \u001b[49m\u001b[43mgwa_50m_path\u001b[49m\u001b[38;5;241;43m=\u001b[39;49m\u001b[38;5;124;43m'\u001b[39;49m\u001b[38;5;124;43m./../../gwa3_250_wind-speed_50m.tif\u001b[39;49m\u001b[38;5;124;43m'\u001b[39;49m\u001b[43m,\u001b[49m\u001b[43m \u001b[49m\u001b[38;5;66;43;03m# Path to global wind atlas (at 50m, to match MERRA) on your hard drive \u001b[39;49;00m\n\u001b[1;32m      6\u001b[0m \u001b[43m)\u001b[49m\n",
      "File \u001b[0;32m/opt/anaconda3/envs/reskit/lib/python3.8/site-packages/reskit/wind/workflows/workflows.py:42\u001b[0m, in \u001b[0;36monshore_wind_merra_wagner_asia\u001b[0;34m(placements, merra_path, gwa_50m_path, clc2012_path, output_netcdf_path, output_variables)\u001b[0m\n\u001b[1;32m      9\u001b[0m \u001b[38;5;124;03m\"\"\"\u001b[39;00m\n\u001b[1;32m     10\u001b[0m \u001b[38;5;124;03mSimulates onshore wind generation in Europe using NASA's MERRA2 database [1].\u001b[39;00m\n\u001b[1;32m     11\u001b[0m \n\u001b[0;32m   (...)\u001b[0m\n\u001b[1;32m     37\u001b[0m \n\u001b[1;32m     38\u001b[0m \u001b[38;5;124;03m\"\"\"\u001b[39;00m\n\u001b[1;32m     40\u001b[0m wf \u001b[38;5;241m=\u001b[39m WindWorkflowManager(placements)\n\u001b[0;32m---> 42\u001b[0m \u001b[43mwf\u001b[49m\u001b[38;5;241;43m.\u001b[39;49m\u001b[43mread\u001b[49m\u001b[43m(\u001b[49m\n\u001b[1;32m     43\u001b[0m \u001b[43m    \u001b[49m\u001b[43mvariables\u001b[49m\u001b[38;5;241;43m=\u001b[39;49m\u001b[43m[\u001b[49m\u001b[38;5;124;43m'\u001b[39;49m\u001b[38;5;124;43melevated_wind_speed\u001b[39;49m\u001b[38;5;124;43m'\u001b[39;49m\u001b[43m,\u001b[49m\n\u001b[1;32m     44\u001b[0m \u001b[43m               \u001b[49m\u001b[38;5;124;43m\"\u001b[39;49m\u001b[38;5;124;43msurface_pressure\u001b[39;49m\u001b[38;5;124;43m\"\u001b[39;49m\u001b[43m,\u001b[49m\n\u001b[1;32m     45\u001b[0m \u001b[43m               \u001b[49m\u001b[38;5;124;43m\"\u001b[39;49m\u001b[38;5;124;43msurface_air_temperature\u001b[39;49m\u001b[38;5;124;43m\"\u001b[39;49m\u001b[43m]\u001b[49m\u001b[43m,\u001b[49m\n\u001b[1;32m     46\u001b[0m \u001b[43m    \u001b[49m\u001b[43msource_type\u001b[49m\u001b[38;5;241;43m=\u001b[39;49m\u001b[38;5;124;43m\"\u001b[39;49m\u001b[38;5;124;43mMERRA\u001b[39;49m\u001b[38;5;124;43m\"\u001b[39;49m\u001b[43m,\u001b[49m\n\u001b[1;32m     47\u001b[0m \u001b[43m    \u001b[49m\u001b[43msource\u001b[49m\u001b[38;5;241;43m=\u001b[39;49m\u001b[43mmerra_path\u001b[49m\u001b[43m,\u001b[49m\n\u001b[1;32m     48\u001b[0m \u001b[43m    \u001b[49m\u001b[43mset_time_index\u001b[49m\u001b[38;5;241;43m=\u001b[39;49m\u001b[38;5;28;43;01mTrue\u001b[39;49;00m\u001b[43m,\u001b[49m\n\u001b[1;32m     49\u001b[0m \u001b[43m    \u001b[49m\u001b[43mverbose\u001b[49m\u001b[38;5;241;43m=\u001b[39;49m\u001b[38;5;28;43;01mFalse\u001b[39;49;00m\u001b[43m)\u001b[49m\n\u001b[1;32m     51\u001b[0m wf\u001b[38;5;241m.\u001b[39madjust_variable_to_long_run_average(\n\u001b[1;32m     52\u001b[0m     variable\u001b[38;5;241m=\u001b[39m\u001b[38;5;124m'\u001b[39m\u001b[38;5;124melevated_wind_speed\u001b[39m\u001b[38;5;124m'\u001b[39m,\n\u001b[1;32m     53\u001b[0m     source_long_run_average\u001b[38;5;241m=\u001b[39mrk_weather\u001b[38;5;241m.\u001b[39mMerraSource\u001b[38;5;241m.\u001b[39mLONG_RUN_AVERAGE_WINDSPEED,\n\u001b[1;32m     54\u001b[0m     real_long_run_average\u001b[38;5;241m=\u001b[39mgwa_50m_path\n\u001b[1;32m     55\u001b[0m )\n\u001b[1;32m     57\u001b[0m wf\u001b[38;5;241m.\u001b[39mestimate_roughness_from_land_cover(\n\u001b[1;32m     58\u001b[0m     path\u001b[38;5;241m=\u001b[39mclc12_path,\n\u001b[1;32m     59\u001b[0m     source_type\u001b[38;5;241m=\u001b[39m\u001b[38;5;124m\"\u001b[39m\u001b[38;5;124mglobCover\u001b[39m\u001b[38;5;124m\"\u001b[39m)\n",
      "File \u001b[0;32m/opt/anaconda3/envs/reskit/lib/python3.8/site-packages/reskit/workflow_manager.py:186\u001b[0m, in \u001b[0;36mWorkflowManager.read\u001b[0;34m(self, variables, source_type, source, set_time_index, spatial_interpolation_mode, temporal_reindex_method, **kwargs)\u001b[0m\n\u001b[1;32m    181\u001b[0m     variables \u001b[38;5;241m=\u001b[39m [\n\u001b[1;32m    182\u001b[0m         variables,\n\u001b[1;32m    183\u001b[0m     ]\n\u001b[1;32m    185\u001b[0m \u001b[38;5;28;01mfor\u001b[39;00m var \u001b[38;5;129;01min\u001b[39;00m variables:\n\u001b[0;32m--> 186\u001b[0m     \u001b[38;5;28mself\u001b[39m\u001b[38;5;241m.\u001b[39msim_data[var] \u001b[38;5;241m=\u001b[39m \u001b[43msource\u001b[49m\u001b[38;5;241;43m.\u001b[39;49m\u001b[43mget\u001b[49m\u001b[43m(\u001b[49m\n\u001b[1;32m    187\u001b[0m \u001b[43m        \u001b[49m\u001b[43mvar\u001b[49m\u001b[43m,\u001b[49m\n\u001b[1;32m    188\u001b[0m \u001b[43m        \u001b[49m\u001b[38;5;28;43mself\u001b[39;49m\u001b[38;5;241;43m.\u001b[39;49m\u001b[43mlocs\u001b[49m\u001b[43m,\u001b[49m\n\u001b[1;32m    189\u001b[0m \u001b[43m        \u001b[49m\u001b[43minterpolation\u001b[49m\u001b[38;5;241;43m=\u001b[39;49m\u001b[43mspatial_interpolation_mode\u001b[49m\u001b[43m,\u001b[49m\n\u001b[1;32m    190\u001b[0m \u001b[43m        \u001b[49m\u001b[43mforce_as_data_frame\u001b[49m\u001b[38;5;241;43m=\u001b[39;49m\u001b[38;5;28;43;01mTrue\u001b[39;49;00m\u001b[43m,\u001b[49m\n\u001b[1;32m    191\u001b[0m \u001b[43m    \u001b[49m\u001b[43m)\u001b[49m\n\u001b[1;32m    193\u001b[0m     \u001b[38;5;28;01mif\u001b[39;00m \u001b[38;5;129;01mnot\u001b[39;00m set_time_index:\n\u001b[1;32m    194\u001b[0m         \u001b[38;5;28mself\u001b[39m\u001b[38;5;241m.\u001b[39msim_data[var] \u001b[38;5;241m=\u001b[39m \u001b[38;5;28mself\u001b[39m\u001b[38;5;241m.\u001b[39msim_data[var]\u001b[38;5;241m.\u001b[39mreindex(\n\u001b[1;32m    195\u001b[0m             \u001b[38;5;28mself\u001b[39m\u001b[38;5;241m.\u001b[39mtime_index, method\u001b[38;5;241m=\u001b[39mtemporal_reindex_method\n\u001b[1;32m    196\u001b[0m         )\n",
      "File \u001b[0;32m/opt/anaconda3/envs/reskit/lib/python3.8/site-packages/reskit/weather/NCSource.py:813\u001b[0m, in \u001b[0;36mNCSource.get\u001b[0;34m(self, variable, locations, interpolation, force_as_data_frame, outside_okay, _indicies)\u001b[0m\n\u001b[1;32m    811\u001b[0m     \u001b[38;5;28;01melse\u001b[39;00m:\n\u001b[1;32m    812\u001b[0m         as_int \u001b[38;5;241m=\u001b[39m \u001b[38;5;28;01mFalse\u001b[39;00m\n\u001b[0;32m--> 813\u001b[0m     indicies \u001b[38;5;241m=\u001b[39m \u001b[38;5;28;43mself\u001b[39;49m\u001b[38;5;241;43m.\u001b[39;49m\u001b[43mloc_to_index\u001b[49m\u001b[43m(\u001b[49m\u001b[43mlocations\u001b[49m\u001b[43m,\u001b[49m\u001b[43m \u001b[49m\u001b[43moutside_okay\u001b[49m\u001b[43m,\u001b[49m\u001b[43m \u001b[49m\u001b[43mas_int\u001b[49m\u001b[38;5;241;43m=\u001b[39;49m\u001b[43mas_int\u001b[49m\u001b[43m)\u001b[49m\n\u001b[1;32m    814\u001b[0m \u001b[38;5;28;01melse\u001b[39;00m:\n\u001b[1;32m    815\u001b[0m     \u001b[38;5;66;03m# Assume indicies match locations\u001b[39;00m\n\u001b[1;32m    816\u001b[0m     indicies \u001b[38;5;241m=\u001b[39m _indicies\n",
      "File \u001b[0;32m/opt/anaconda3/envs/reskit/lib/python3.8/site-packages/reskit/weather/NCSource.py:614\u001b[0m, in \u001b[0;36mNCSource._loc_to_index_rect.<locals>.func\u001b[0;34m(self, loc, outside_okay, as_int)\u001b[0m\n\u001b[1;32m    612\u001b[0m         \u001b[38;5;28mprint\u001b[39m(\u001b[38;5;124m\"\u001b[39m\u001b[38;5;124mThe following locations are out of bounds\u001b[39m\u001b[38;5;124m\"\u001b[39m)\n\u001b[1;32m    613\u001b[0m         \u001b[38;5;28mprint\u001b[39m(locations[oob])\n\u001b[0;32m--> 614\u001b[0m         \u001b[38;5;28;01mraise\u001b[39;00m ResError(\u001b[38;5;124m\"\u001b[39m\u001b[38;5;124mLocations are outside the boundaries\u001b[39m\u001b[38;5;124m\"\u001b[39m)\n\u001b[1;32m    616\u001b[0m \u001b[38;5;66;03m# As int?\u001b[39;00m\n\u001b[1;32m    617\u001b[0m \u001b[38;5;28;01mif\u001b[39;00m as_int:\n",
      "\u001b[0;31mResError\u001b[0m: Locations are outside the boundaries"
     ]
    }
   ],
   "source": [
    "gen = rk.wind.workflows.workflows.onshore_wind_merra_wagner_asia(\n",
    "    placements=placements,\n",
    "    merra_path='./../../merra-like', # path to MERRA2 data on your hard drive\n",
    "    clc2012_path='./../../GLOBCOVER_L4_200901_200912_V2.3.tiff', # Path to Globcover2010 land cover (or anther land cover dataset) on your hard drive\n",
    "    gwa_50m_path='./../../gwa3_250_wind-speed_50m.tif', # Path to global wind atlas (at 50m, to match MERRA) on your hard drive \n",
    ")"
   ]
  },
  {
   "cell_type": "code",
   "execution_count": 5,
   "id": "7a9ba2ad",
   "metadata": {},
   "outputs": [
    {
     "name": "stdout",
     "output_type": "stream",
     "text": [
      "/Users/charlottewagner/Documents/SEI/RESKit/examples\n"
     ]
    }
   ],
   "source": [
    "print(getcwd())\n",
    "currentwd= getcwd()"
   ]
  },
  {
   "cell_type": "code",
   "execution_count": 5,
   "id": "8d46a241",
   "metadata": {},
   "outputs": [
    {
     "data": {
      "text/plain": [
       "['MERRA_tavg1_2d.2015.Europe.TS2M.nc4',\n",
       " 'V50M-21',\n",
       " '.DS_Store',\n",
       " 'U50M-21',\n",
       " 'MERRA_tavg1_2d.2015.Europe.PS.nc4',\n",
       " 'V10M-21',\n",
       " 'PS-21',\n",
       " 'SWGDN-21',\n",
       " 'TS2M-21',\n",
       " 'MERRA_tavg1_2d.2015.Europe.U50.nc4',\n",
       " 'TS10M-21',\n",
       " 'U10M-21',\n",
       " 'TSMDEW-21',\n",
       " 'MERRA_tavg1_2d.2015.Europe.V50.nc4']"
      ]
     },
     "execution_count": 5,
     "metadata": {},
     "output_type": "execute_result"
    }
   ],
   "source": [
    "listdir('./../../merra-21')"
   ]
  },
  {
   "cell_type": "code",
   "execution_count": null,
   "id": "32bd44d1",
   "metadata": {},
   "outputs": [],
   "source": []
  }
 ],
 "metadata": {
  "kernelspec": {
   "display_name": "Python 3 (ipykernel)",
   "language": "python",
   "name": "python3"
  },
  "language_info": {
   "codemirror_mode": {
    "name": "ipython",
    "version": 3
   },
   "file_extension": ".py",
   "mimetype": "text/x-python",
   "name": "python",
   "nbconvert_exporter": "python",
   "pygments_lexer": "ipython3",
   "version": "3.8.13"
  }
 },
 "nbformat": 4,
 "nbformat_minor": 5
}
