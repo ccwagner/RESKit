{
 "cells": [
  {
   "cell_type": "code",
   "execution_count": 12,
   "id": "9de402d1",
   "metadata": {},
   "outputs": [],
   "source": [
    "# import packages\n",
    "import reskit as rk\n",
    "import pandas as pd\n",
    "from os import listdir, chdir, getcwd"
   ]
  },
  {
   "cell_type": "code",
   "execution_count": 13,
   "id": "8cefaa6e",
   "metadata": {},
   "outputs": [
    {
     "data": {
      "text/html": [
       "<div>\n",
       "<style scoped>\n",
       "    .dataframe tbody tr th:only-of-type {\n",
       "        vertical-align: middle;\n",
       "    }\n",
       "\n",
       "    .dataframe tbody tr th {\n",
       "        vertical-align: top;\n",
       "    }\n",
       "\n",
       "    .dataframe thead th {\n",
       "        text-align: right;\n",
       "    }\n",
       "</style>\n",
       "<table border=\"1\" class=\"dataframe\">\n",
       "  <thead>\n",
       "    <tr style=\"text-align: right;\">\n",
       "      <th></th>\n",
       "      <th>capacity</th>\n",
       "      <th>hub_height</th>\n",
       "      <th>rotor_diam</th>\n",
       "      <th>lon</th>\n",
       "      <th>lat</th>\n",
       "    </tr>\n",
       "  </thead>\n",
       "  <tbody>\n",
       "    <tr>\n",
       "      <th>0</th>\n",
       "      <td>4000</td>\n",
       "      <td>120</td>\n",
       "      <td>150</td>\n",
       "      <td>141.75</td>\n",
       "      <td>43.09</td>\n",
       "    </tr>\n",
       "    <tr>\n",
       "      <th>1</th>\n",
       "      <td>4000</td>\n",
       "      <td>120</td>\n",
       "      <td>130</td>\n",
       "      <td>141.75</td>\n",
       "      <td>43.09</td>\n",
       "    </tr>\n",
       "    <tr>\n",
       "      <th>2</th>\n",
       "      <td>4000</td>\n",
       "      <td>120</td>\n",
       "      <td>150</td>\n",
       "      <td>141.60</td>\n",
       "      <td>45.18</td>\n",
       "    </tr>\n",
       "    <tr>\n",
       "      <th>3</th>\n",
       "      <td>4000</td>\n",
       "      <td>120</td>\n",
       "      <td>130</td>\n",
       "      <td>141.60</td>\n",
       "      <td>45.18</td>\n",
       "    </tr>\n",
       "    <tr>\n",
       "      <th>4</th>\n",
       "      <td>4000</td>\n",
       "      <td>120</td>\n",
       "      <td>150</td>\n",
       "      <td>145.02</td>\n",
       "      <td>43.46</td>\n",
       "    </tr>\n",
       "  </tbody>\n",
       "</table>\n",
       "</div>"
      ],
      "text/plain": [
       "   capacity  hub_height  rotor_diam     lon    lat\n",
       "0      4000         120         150  141.75  43.09\n",
       "1      4000         120         130  141.75  43.09\n",
       "2      4000         120         150  141.60  45.18\n",
       "3      4000         120         130  141.60  45.18\n",
       "4      4000         120         150  145.02  43.46"
      ]
     },
     "execution_count": 13,
     "metadata": {},
     "output_type": "execute_result"
    }
   ],
   "source": [
    "# Placment locations do not have to be put in as a pandas dataframe (a list of coordinates would also be okay), but \n",
    "#  it is also the most flexible. Therefore, this manner is suggested\n",
    "\n",
    "placements = pd.read_csv('./../../turbine_placements_JAP.csv')\n",
    "\n",
    "placements.head()"
   ]
  },
  {
   "cell_type": "code",
   "execution_count": 18,
   "id": "89a94859",
   "metadata": {},
   "outputs": [
    {
     "ename": "KeyError",
     "evalue": "'/merra-21-NEA'",
     "output_type": "error",
     "traceback": [
      "\u001b[0;31m---------------------------------------------------------------------------\u001b[0m",
      "\u001b[0;31mKeyError\u001b[0m                                  Traceback (most recent call last)",
      "Input \u001b[0;32mIn [18]\u001b[0m, in \u001b[0;36m<cell line: 1>\u001b[0;34m()\u001b[0m\n\u001b[1;32m      1\u001b[0m gen \u001b[38;5;241m=\u001b[39m rk\u001b[38;5;241m.\u001b[39mwind\u001b[38;5;241m.\u001b[39mworkflows\u001b[38;5;241m.\u001b[39mworkflows\u001b[38;5;241m.\u001b[39monshore_wind_merra_wagner_asia(\n\u001b[1;32m      2\u001b[0m     placements\u001b[38;5;241m=\u001b[39mplacements,\n\u001b[0;32m----> 3\u001b[0m     merra_path\u001b[38;5;241m=\u001b[39m\u001b[43mrk\u001b[49m\u001b[38;5;241;43m.\u001b[39;49m\u001b[43mTEST_DATA\u001b[49m\u001b[43m[\u001b[49m\u001b[38;5;124;43m'\u001b[39;49m\u001b[38;5;124;43m/merra-21-NEA\u001b[39;49m\u001b[38;5;124;43m'\u001b[39;49m\u001b[43m]\u001b[49m, \u001b[38;5;66;03m# path to MERRA2 data on your hard drive\u001b[39;00m\n\u001b[1;32m      4\u001b[0m     clc2012_path\u001b[38;5;241m=\u001b[39mrk\u001b[38;5;241m.\u001b[39mTEST_DATA[\u001b[38;5;124m'\u001b[39m\u001b[38;5;124mGLOBCOVER_L4_200901_200912_V2.3.tiff\u001b[39m\u001b[38;5;124m'\u001b[39m], \u001b[38;5;66;03m# Path to Globcover2010 land cover (or anther land cover dataset) on your hard drive\u001b[39;00m\n\u001b[1;32m      5\u001b[0m     gwa_50m_path\u001b[38;5;241m=\u001b[39mrk\u001b[38;5;241m.\u001b[39mTEST_DATA[\u001b[38;5;124m'\u001b[39m\u001b[38;5;124mgwa3_250_wind-speed_50m.tif\u001b[39m\u001b[38;5;124m'\u001b[39m], \u001b[38;5;66;03m# Path to global wind atlas (at 50m, to match MERRA) on your hard drive \u001b[39;00m\n\u001b[1;32m      6\u001b[0m )\n",
      "\u001b[0;31mKeyError\u001b[0m: '/merra-21-NEA'"
     ]
    }
   ],
   "source": [
    "gen = rk.wind.workflows.workflows.onshore_wind_merra_wagner_asia(\n",
    "    placements=placements,\n",
    "    merra_path=rk.TEST_DATA['merra-21-NEA'], # path to MERRA2 data on your hard drive\n",
    "    clc2012_path=rk.TEST_DATA['GLOBCOVER_L4_200901_200912_V2.3.tiff'], # Path to Globcover2010 land cover (or anther land cover dataset) on your hard drive\n",
    "    gwa_50m_path=rk.TEST_DATA['gwa3_250_wind-speed_50m.tif'], # Path to global wind atlas (at 50m, to match MERRA) on your hard drive \n",
    ")"
   ]
  },
  {
   "cell_type": "code",
   "execution_count": 5,
   "id": "7a9ba2ad",
   "metadata": {},
   "outputs": [
    {
     "name": "stdout",
     "output_type": "stream",
     "text": [
      "/Users/charlottewagner/Documents/SEI/RESKit/examples\n"
     ]
    }
   ],
   "source": [
    "print(getcwd())\n",
    "currentwd= getcwd()"
   ]
  },
  {
   "cell_type": "code",
   "execution_count": 15,
   "id": "8d46a241",
   "metadata": {},
   "outputs": [
    {
     "data": {
      "text/plain": [
       "OrderedDict([('random_turbines.dbf',\n",
       "              '/opt/anaconda3/envs/reskit/lib/python3.8/site-packages/reskit/_test/data/random_turbines.dbf'),\n",
       "             ('DEM-like.tif',\n",
       "              '/opt/anaconda3/envs/reskit/lib/python3.8/site-packages/reskit/_test/data/DEM-like.tif'),\n",
       "             ('merra_point_context.prj',\n",
       "              '/opt/anaconda3/envs/reskit/lib/python3.8/site-packages/reskit/_test/data/merra_point_context.prj'),\n",
       "             ('turbine_placements.csv',\n",
       "              '/opt/anaconda3/envs/reskit/lib/python3.8/site-packages/reskit/_test/data/turbine_placements.csv'),\n",
       "             ('aachenShapefile.dbf',\n",
       "              '/opt/anaconda3/envs/reskit/lib/python3.8/site-packages/reskit/_test/data/aachenShapefile.dbf'),\n",
       "             ('merra-like',\n",
       "              '/opt/anaconda3/envs/reskit/lib/python3.8/site-packages/reskit/_test/data/merra-like'),\n",
       "             ('aachenShapefile.shp',\n",
       "              '/opt/anaconda3/envs/reskit/lib/python3.8/site-packages/reskit/_test/data/aachenShapefile.shp'),\n",
       "             ('aachenShapefile.shx',\n",
       "              '/opt/anaconda3/envs/reskit/lib/python3.8/site-packages/reskit/_test/data/aachenShapefile.shx'),\n",
       "             ('turbinePlacements.prj',\n",
       "              '/opt/anaconda3/envs/reskit/lib/python3.8/site-packages/reskit/_test/data/turbinePlacements.prj'),\n",
       "             ('gsa-ghi-like.tif',\n",
       "              '/opt/anaconda3/envs/reskit/lib/python3.8/site-packages/reskit/_test/data/gsa-ghi-like.tif'),\n",
       "             ('gwa50-like.tif',\n",
       "              '/opt/anaconda3/envs/reskit/lib/python3.8/site-packages/reskit/_test/data/gwa50-like.tif'),\n",
       "             ('gwa100-like.tif',\n",
       "              '/opt/anaconda3/envs/reskit/lib/python3.8/site-packages/reskit/_test/data/gwa100-like.tif'),\n",
       "             ('random_turbines.shx',\n",
       "              '/opt/anaconda3/envs/reskit/lib/python3.8/site-packages/reskit/_test/data/random_turbines.shx'),\n",
       "             ('random_turbines.shp',\n",
       "              '/opt/anaconda3/envs/reskit/lib/python3.8/site-packages/reskit/_test/data/random_turbines.shp'),\n",
       "             ('gwa200-like.tif',\n",
       "              '/opt/anaconda3/envs/reskit/lib/python3.8/site-packages/reskit/_test/data/gwa200-like.tif'),\n",
       "             ('merra-like.nc4',\n",
       "              '/opt/anaconda3/envs/reskit/lib/python3.8/site-packages/reskit/_test/data/merra-like.nc4'),\n",
       "             ('gsa-dni-like.tif',\n",
       "              '/opt/anaconda3/envs/reskit/lib/python3.8/site-packages/reskit/_test/data/gsa-dni-like.tif'),\n",
       "             ('turbinePlacements.dbf',\n",
       "              '/opt/anaconda3/envs/reskit/lib/python3.8/site-packages/reskit/_test/data/turbinePlacements.dbf'),\n",
       "             ('merra_point_context.shp',\n",
       "              '/opt/anaconda3/envs/reskit/lib/python3.8/site-packages/reskit/_test/data/merra_point_context.shp'),\n",
       "             ('clc-aachen_clipped.tif',\n",
       "              '/opt/anaconda3/envs/reskit/lib/python3.8/site-packages/reskit/_test/data/clc-aachen_clipped.tif'),\n",
       "             ('merra_point_context.shx',\n",
       "              '/opt/anaconda3/envs/reskit/lib/python3.8/site-packages/reskit/_test/data/merra_point_context.shx'),\n",
       "             ('sarah-like',\n",
       "              '/opt/anaconda3/envs/reskit/lib/python3.8/site-packages/reskit/_test/data/sarah-like'),\n",
       "             ('aachenShapefile.prj',\n",
       "              '/opt/anaconda3/envs/reskit/lib/python3.8/site-packages/reskit/_test/data/aachenShapefile.prj'),\n",
       "             ('turbinePlacements.shx',\n",
       "              '/opt/anaconda3/envs/reskit/lib/python3.8/site-packages/reskit/_test/data/turbinePlacements.shx'),\n",
       "             ('ESA_CCI_2018_clip.tif',\n",
       "              '/opt/anaconda3/envs/reskit/lib/python3.8/site-packages/reskit/_test/data/ESA_CCI_2018_clip.tif'),\n",
       "             ('module_placements.csv',\n",
       "              '/opt/anaconda3/envs/reskit/lib/python3.8/site-packages/reskit/_test/data/module_placements.csv'),\n",
       "             ('merra_point_context.dbf',\n",
       "              '/opt/anaconda3/envs/reskit/lib/python3.8/site-packages/reskit/_test/data/merra_point_context.dbf'),\n",
       "             ('turbinePlacements.shp',\n",
       "              '/opt/anaconda3/envs/reskit/lib/python3.8/site-packages/reskit/_test/data/turbinePlacements.shp'),\n",
       "             ('gwa50-like.tif.aux.xml',\n",
       "              '/opt/anaconda3/envs/reskit/lib/python3.8/site-packages/reskit/_test/data/gwa50-like.tif.aux.xml'),\n",
       "             ('aachenShapefile.qpj',\n",
       "              '/opt/anaconda3/envs/reskit/lib/python3.8/site-packages/reskit/_test/data/aachenShapefile.qpj'),\n",
       "             ('era5-like',\n",
       "              '/opt/anaconda3/envs/reskit/lib/python3.8/site-packages/reskit/_test/data/era5-like'),\n",
       "             ('random_turbines.prj',\n",
       "              '/opt/anaconda3/envs/reskit/lib/python3.8/site-packages/reskit/_test/data/random_turbines.prj')])"
      ]
     },
     "execution_count": 15,
     "metadata": {},
     "output_type": "execute_result"
    }
   ],
   "source": [
    "rk.TEST_DATA"
   ]
  },
  {
   "cell_type": "code",
   "execution_count": null,
   "id": "32bd44d1",
   "metadata": {},
   "outputs": [],
   "source": []
  }
 ],
 "metadata": {
  "kernelspec": {
   "display_name": "Python 3 (ipykernel)",
   "language": "python",
   "name": "python3"
  },
  "language_info": {
   "codemirror_mode": {
    "name": "ipython",
    "version": 3
   },
   "file_extension": ".py",
   "mimetype": "text/x-python",
   "name": "python",
   "nbconvert_exporter": "python",
   "pygments_lexer": "ipython3",
   "version": "3.8.13"
  }
 },
 "nbformat": 4,
 "nbformat_minor": 5
}
